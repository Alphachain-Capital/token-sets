{
 "cells": [
  {
   "cell_type": "markdown",
   "metadata": {},
   "source": [
    "# Determining Rebalance Day and Hour\n",
    "## By: Carter Carlson\n",
    "### 2020.04.05\n",
    "\n",
    "### Description\n",
    "Fart Set will rebalance once per week at the same day and hour.  Instead of picking an arbitrary time to rebalance on, let's find:\n",
    "\n",
    "* The day of week with the least price volatility\n",
    "* On that day, the hour with the least price volatility"
   ]
  },
  {
   "cell_type": "code",
   "execution_count": 2,
   "metadata": {},
   "outputs": [
    {
     "name": "stdout",
     "output_type": "stream",
     "text": [
      "Start date: 2019-01-01 00:00:00\n",
      "End date: 2019-11-28 23:00:00\n"
     ]
    }
   ],
   "source": [
    "import pandas as pd\n",
    "\n",
    "eth_1h = pd.read_csv('../data/ETH.csv')\n",
    "\n",
    "print(f\"Start date: {eth_1h['date'].iat[0]}\")\n",
    "print(f\"End date: {eth_1h['date'].iat[-1]}\")"
   ]
  },
  {
   "cell_type": "code",
   "execution_count": 3,
   "metadata": {},
   "outputs": [
    {
     "data": {
      "text/html": [
       "<div>\n",
       "<style scoped>\n",
       "    .dataframe tbody tr th:only-of-type {\n",
       "        vertical-align: middle;\n",
       "    }\n",
       "\n",
       "    .dataframe tbody tr th {\n",
       "        vertical-align: top;\n",
       "    }\n",
       "\n",
       "    .dataframe thead th {\n",
       "        text-align: right;\n",
       "    }\n",
       "</style>\n",
       "<table border=\"1\" class=\"dataframe\">\n",
       "  <thead>\n",
       "    <tr style=\"text-align: right;\">\n",
       "      <th></th>\n",
       "      <th>date</th>\n",
       "      <th>open</th>\n",
       "      <th>high</th>\n",
       "      <th>low</th>\n",
       "      <th>close</th>\n",
       "      <th>volume</th>\n",
       "    </tr>\n",
       "  </thead>\n",
       "  <tbody>\n",
       "    <tr>\n",
       "      <th>0</th>\n",
       "      <td>2019-01-01 00:00:00</td>\n",
       "      <td>132.74</td>\n",
       "      <td>133.50</td>\n",
       "      <td>132.67</td>\n",
       "      <td>133.36</td>\n",
       "      <td>6204.28401</td>\n",
       "    </tr>\n",
       "    <tr>\n",
       "      <th>1</th>\n",
       "      <td>2019-01-01 01:00:00</td>\n",
       "      <td>133.36</td>\n",
       "      <td>134.30</td>\n",
       "      <td>133.01</td>\n",
       "      <td>133.56</td>\n",
       "      <td>10214.95098</td>\n",
       "    </tr>\n",
       "    <tr>\n",
       "      <th>2</th>\n",
       "      <td>2019-01-01 02:00:00</td>\n",
       "      <td>133.56</td>\n",
       "      <td>135.30</td>\n",
       "      <td>133.19</td>\n",
       "      <td>134.52</td>\n",
       "      <td>16342.20664</td>\n",
       "    </tr>\n",
       "    <tr>\n",
       "      <th>3</th>\n",
       "      <td>2019-01-01 03:00:00</td>\n",
       "      <td>134.55</td>\n",
       "      <td>134.78</td>\n",
       "      <td>133.55</td>\n",
       "      <td>133.70</td>\n",
       "      <td>14895.35710</td>\n",
       "    </tr>\n",
       "    <tr>\n",
       "      <th>4</th>\n",
       "      <td>2019-01-01 04:00:00</td>\n",
       "      <td>133.72</td>\n",
       "      <td>134.14</td>\n",
       "      <td>133.66</td>\n",
       "      <td>133.86</td>\n",
       "      <td>6388.10191</td>\n",
       "    </tr>\n",
       "  </tbody>\n",
       "</table>\n",
       "</div>"
      ],
      "text/plain": [
       "                  date    open    high     low   close       volume\n",
       "0  2019-01-01 00:00:00  132.74  133.50  132.67  133.36   6204.28401\n",
       "1  2019-01-01 01:00:00  133.36  134.30  133.01  133.56  10214.95098\n",
       "2  2019-01-01 02:00:00  133.56  135.30  133.19  134.52  16342.20664\n",
       "3  2019-01-01 03:00:00  134.55  134.78  133.55  133.70  14895.35710\n",
       "4  2019-01-01 04:00:00  133.72  134.14  133.66  133.86   6388.10191"
      ]
     },
     "execution_count": 3,
     "metadata": {},
     "output_type": "execute_result"
    }
   ],
   "source": [
    "eth_1h.head()"
   ]
  },
  {
   "cell_type": "code",
   "execution_count": 4,
   "metadata": {},
   "outputs": [
    {
     "data": {
      "text/html": [
       "<div>\n",
       "<style scoped>\n",
       "    .dataframe tbody tr th:only-of-type {\n",
       "        vertical-align: middle;\n",
       "    }\n",
       "\n",
       "    .dataframe tbody tr th {\n",
       "        vertical-align: top;\n",
       "    }\n",
       "\n",
       "    .dataframe thead th {\n",
       "        text-align: right;\n",
       "    }\n",
       "</style>\n",
       "<table border=\"1\" class=\"dataframe\">\n",
       "  <thead>\n",
       "    <tr style=\"text-align: right;\">\n",
       "      <th></th>\n",
       "      <th>date</th>\n",
       "      <th>open</th>\n",
       "      <th>high</th>\n",
       "      <th>low</th>\n",
       "      <th>close</th>\n",
       "      <th>volume</th>\n",
       "    </tr>\n",
       "  </thead>\n",
       "  <tbody>\n",
       "    <tr>\n",
       "      <th>0</th>\n",
       "      <td>2019-01-01 00:00:00</td>\n",
       "      <td>132.74</td>\n",
       "      <td>140.67</td>\n",
       "      <td>131.00</td>\n",
       "      <td>138.99</td>\n",
       "      <td>4.151021e+05</td>\n",
       "    </tr>\n",
       "    <tr>\n",
       "      <th>1</th>\n",
       "      <td>2019-01-02 00:00:00</td>\n",
       "      <td>138.91</td>\n",
       "      <td>155.37</td>\n",
       "      <td>138.30</td>\n",
       "      <td>151.93</td>\n",
       "      <td>1.018141e+06</td>\n",
       "    </tr>\n",
       "    <tr>\n",
       "      <th>2</th>\n",
       "      <td>2019-01-03 00:00:00</td>\n",
       "      <td>151.78</td>\n",
       "      <td>154.20</td>\n",
       "      <td>143.11</td>\n",
       "      <td>153.33</td>\n",
       "      <td>7.381434e+05</td>\n",
       "    </tr>\n",
       "    <tr>\n",
       "      <th>3</th>\n",
       "      <td>2019-01-04 00:00:00</td>\n",
       "      <td>153.11</td>\n",
       "      <td>159.26</td>\n",
       "      <td>144.66</td>\n",
       "      <td>154.51</td>\n",
       "      <td>8.914434e+05</td>\n",
       "    </tr>\n",
       "    <tr>\n",
       "      <th>4</th>\n",
       "      <td>2019-01-05 00:00:00</td>\n",
       "      <td>157.70</td>\n",
       "      <td>157.80</td>\n",
       "      <td>147.51</td>\n",
       "      <td>150.47</td>\n",
       "      <td>6.645218e+05</td>\n",
       "    </tr>\n",
       "  </tbody>\n",
       "</table>\n",
       "</div>"
      ],
      "text/plain": [
       "                  date    open    high     low   close        volume\n",
       "0  2019-01-01 00:00:00  132.74  140.67  131.00  138.99  4.151021e+05\n",
       "1  2019-01-02 00:00:00  138.91  155.37  138.30  151.93  1.018141e+06\n",
       "2  2019-01-03 00:00:00  151.78  154.20  143.11  153.33  7.381434e+05\n",
       "3  2019-01-04 00:00:00  153.11  159.26  144.66  154.51  8.914434e+05\n",
       "4  2019-01-05 00:00:00  157.70  157.80  147.51  150.47  6.645218e+05"
      ]
     },
     "execution_count": 4,
     "metadata": {},
     "output_type": "execute_result"
    }
   ],
   "source": [
    "# Group ETH into 1d candles\n",
    "# https://pypi.org/project/TAcharts\n",
    "from TAcharts.utils import group_candles\n",
    "\n",
    "eth_1d = group_candles(eth_1h, n=24)\n",
    "eth_1d.head()"
   ]
  },
  {
   "cell_type": "markdown",
   "metadata": {},
   "source": [
    "### Daily Volatility"
   ]
  },
  {
   "cell_type": "code",
   "execution_count": 5,
   "metadata": {},
   "outputs": [],
   "source": [
    "def calc_pct_change(high, low, _open):\n",
    "    return (high - low) / _open"
   ]
  },
  {
   "cell_type": "code",
   "execution_count": 6,
   "metadata": {},
   "outputs": [
    {
     "name": "stdout",
     "output_type": "stream",
     "text": [
      "weekday\n",
      "Tuesday      0.070740\n",
      "Wednesday    0.066079\n",
      "Sunday       0.063304\n",
      "Monday       0.062416\n",
      "Friday       0.061621\n",
      "Thursday     0.059621\n",
      "Saturday     0.052946\n",
      "Name: pct_change, dtype: float64\n"
     ]
    }
   ],
   "source": [
    "eth_1d['pct_change'] = calc_pct_change(eth_1d['high'], eth_1d['low'], eth_1d['open'])\n",
    "eth_1d['weekday'] = pd.DatetimeIndex(eth_1d['date']).day_name()\n",
    "\n",
    "daily_volatility = eth_1d.groupby('weekday')['pct_change'].mean().sort_values(ascending=False)\n",
    "print(daily_volatility)"
   ]
  },
  {
   "cell_type": "markdown",
   "metadata": {},
   "source": [
    "#### Saturday has the lowest average daily volatility."
   ]
  },
  {
   "cell_type": "markdown",
   "metadata": {},
   "source": [
    "### Hourly Volatility"
   ]
  },
  {
   "cell_type": "code",
   "execution_count": 7,
   "metadata": {},
   "outputs": [
    {
     "name": "stdout",
     "output_type": "stream",
     "text": [
      "hour\n",
      "11    0.015472\n",
      "19    0.014008\n",
      "10    0.013859\n",
      "9     0.013478\n",
      "18    0.013072\n",
      "17    0.012644\n",
      "8     0.012570\n",
      "15    0.012349\n",
      "7     0.012239\n",
      "16    0.011714\n",
      "5     0.011542\n",
      "12    0.011506\n",
      "4     0.011314\n",
      "3     0.011192\n",
      "6     0.011139\n",
      "14    0.010986\n",
      "20    0.010895\n",
      "13    0.010425\n",
      "23    0.010207\n",
      "22    0.010100\n",
      "21    0.010055\n",
      "2     0.010032\n",
      "0     0.009698\n",
      "1     0.009190\n",
      "Name: pct_change, dtype: float64\n"
     ]
    }
   ],
   "source": [
    "eth_1h['pct_change'] = calc_pct_change(eth_1h['high'], eth_1h['low'], eth_1h['open'])\n",
    "eth_1h['hour'] = pd.DatetimeIndex(eth_1h['date']).hour\n",
    "\n",
    "# Only take volatility from Saturday\n",
    "eth_1h_saturday = eth_1h[pd.DatetimeIndex(eth_1h['date']).day_name() == 'Saturday']\n",
    "\n",
    "hourly_volatility = eth_1h.groupby('hour')['pct_change'].mean().sort_values(ascending=False)\n",
    "print(hourly_volatility)"
   ]
  },
  {
   "cell_type": "markdown",
   "metadata": {},
   "source": [
    "#### On Saturday, hour 1 has the lowest average volatility.\n",
    "\n",
    "## Conclusion: Fart Set will rebalance every Saturday at 01:00."
   ]
  }
 ],
 "metadata": {
  "kernelspec": {
   "display_name": "Python 3",
   "language": "python",
   "name": "python3"
  },
  "language_info": {
   "codemirror_mode": {
    "name": "ipython",
    "version": 3
   },
   "file_extension": ".py",
   "mimetype": "text/x-python",
   "name": "python",
   "nbconvert_exporter": "python",
   "pygments_lexer": "ipython3",
   "version": "3.8.0"
  }
 },
 "nbformat": 4,
 "nbformat_minor": 4
}
