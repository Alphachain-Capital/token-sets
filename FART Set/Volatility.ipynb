{
 "cells": [
  {
   "cell_type": "code",
   "execution_count": 1,
   "metadata": {},
   "outputs": [],
   "source": [
    "import pandas as pd\n",
    "\n",
    "from datetime import datetime\n",
    "\n",
    "from py.split_df import split_df\n",
    "from py.simulate import simulate"
   ]
  },
  {
   "cell_type": "code",
   "execution_count": 3,
   "metadata": {},
   "outputs": [],
   "source": [
    "allocation = {\n",
    "    'bull': [85, 15],\n",
    "    'neutral': [50, 50],\n",
    "    'bear': [15, 85]\n",
    "}\n",
    "\n",
    "wiggle_room = 0.12\n",
    "\n",
    "\n",
    "# We'll use 180 day windows (6 months) with 120 day overlap (4 months)\n",
    "# Since our dataframe is in hours, multiply by 24\n",
    "window_len = 24 * 180\n",
    "overlap = 24 * 120"
   ]
  },
  {
   "cell_type": "code",
   "execution_count": null,
   "metadata": {},
   "outputs": [],
   "source": [
    "signals = pd.read_csv('backtests/signals.csv')\n",
    "\n"
   ]
  }
 ],
 "metadata": {
  "kernelspec": {
   "display_name": "Python 3",
   "language": "python",
   "name": "python3"
  },
  "language_info": {
   "codemirror_mode": {
    "name": "ipython",
    "version": 3
   },
   "file_extension": ".py",
   "mimetype": "text/x-python",
   "name": "python",
   "nbconvert_exporter": "python",
   "pygments_lexer": "ipython3",
   "version": "3.8.0"
  }
 },
 "nbformat": 4,
 "nbformat_minor": 4
}
